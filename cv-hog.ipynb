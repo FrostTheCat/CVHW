{
 "cells": [
  {
   "cell_type": "code",
   "execution_count": 1,
   "metadata": {},
   "outputs": [],
   "source": [
    "import matplotlib.pyplot as plt\n",
    "import os\n",
    "import random\n",
    "import cv2\n",
    "from sklearn.model_selection import GridSearchCV, train_test_split\n",
    "from sklearn import svm, metrics\n",
    "import numpy as np\n",
    "import pandas as pd\n",
    "%matplotlib inline"
   ]
  },
  {
   "cell_type": "code",
   "execution_count": 2,
   "metadata": {},
   "outputs": [],
   "source": [
    "winSize = (64, 128)\n",
    "blockSize = (16, 16)\n",
    "blockStride = (8, 8)\n",
    "cellSize = (8, 8)\n",
    "nbins = 9\n",
    "hog = cv2.HOGDescriptor(winSize, blockSize, blockStride, cellSize, nbins)"
   ]
  },
  {
   "cell_type": "code",
   "execution_count": 3,
   "metadata": {},
   "outputs": [
    {
     "name": "stdout",
     "output_type": "stream",
     "text": [
      "test/01.jpg\n",
      "Done\n",
      "test/02.jpg\n",
      "Done\n",
      "test/03.jpg\n",
      "Done\n",
      "test/04.jpg\n",
      "Done\n",
      "test/05.jpg\n",
      "Done\n",
      "test/06.jpg\n",
      "Done\n",
      "test/07.jpg\n",
      "Done\n",
      "test/08.jpg\n",
      "Done\n",
      "test/09.jpg\n",
      "Done\n",
      "test/10.jpg\n",
      "Done\n",
      "test/11.jpg\n",
      "Done\n",
      "test/12.jpg\n",
      "Done\n",
      "test/13.jpg\n",
      "Done\n",
      "test/14.jpg\n",
      "Done\n",
      "test/15.jpg\n",
      "Done\n",
      "test/16.jpg\n",
      "Done\n"
     ]
    }
   ],
   "source": [
    "def predict(img, op):\n",
    "    print(img)\n",
    "\n",
    "    src = cv2.imread(img)\n",
    "    src = cv2.resize(src, (1024, 768))\n",
    "\n",
    "    hog = cv2.HOGDescriptor()\n",
    "    hog.setSVMDetector(cv2.HOGDescriptor_getDefaultPeopleDetector())\n",
    "\n",
    "    (rects, weights) = hog.detectMultiScale(src,\n",
    "                                            winStride=(4, 4),\n",
    "                                            padding=(8, 8),\n",
    "                                            scale=1.25,\n",
    "                                            useMeanshiftGrouping=False)\n",
    "    print(\"Done\")\n",
    "\n",
    "    for (x, y, w, h) in rects:\n",
    "        cv2.rectangle(src, (x, y), (x + w, y + h), (0, 255, 0), 2)\n",
    " \n",
    "    cv2.imwrite(op, src)\n",
    "\n",
    "predict_path = []\n",
    "output_path = []\n",
    "for i in os.listdir('test'):\n",
    "    if i[0] != '.':\n",
    "        predict_path.append('test/' + i)\n",
    "        output_path.append('output/' + i)\n",
    "\n",
    "for i in range(len(predict_path)):\n",
    "    predict(predict_path[i], output_path[i])\n"
   ]
  }
 ],
 "metadata": {
  "kernelspec": {
   "display_name": "Python 3",
   "language": "python",
   "name": "python3"
  },
  "language_info": {
   "codemirror_mode": {
    "name": "ipython",
    "version": 3
   },
   "file_extension": ".py",
   "mimetype": "text/x-python",
   "name": "python",
   "nbconvert_exporter": "python",
   "pygments_lexer": "ipython3",
   "version": "3.9.12"
  },
  "orig_nbformat": 4
 },
 "nbformat": 4,
 "nbformat_minor": 2
}
