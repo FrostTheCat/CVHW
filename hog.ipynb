{
 "cells": [
  {
   "cell_type": "code",
   "execution_count": 1,
   "metadata": {},
   "outputs": [],
   "source": [
    "import matplotlib.pyplot as plt\n",
    "import os\n",
    "import random\n",
    "import cv2\n",
    "from sklearn.model_selection import GridSearchCV, train_test_split\n",
    "from sklearn import svm, metrics\n",
    "import numpy as np\n",
    "import pandas as pd\n",
    "%matplotlib inline"
   ]
  },
  {
   "cell_type": "code",
   "execution_count": 2,
   "metadata": {},
   "outputs": [],
   "source": [
    "winSize = (64, 128)\n",
    "blockSize = (16, 16)\n",
    "blockStride = (8, 8)\n",
    "cellSize = (8, 8)\n",
    "nbins = 9\n",
    "hog = cv2.HOGDescriptor(winSize, blockSize, blockStride, cellSize, nbins)"
   ]
  },
  {
   "cell_type": "code",
   "execution_count": 3,
   "metadata": {},
   "outputs": [],
   "source": [
    "pos_path = []\n",
    "neg_path = []\n",
    "for i in os.listdir('pedestrians128x64'):\n",
    "    if i[0] != '.':\n",
    "        pos_path.append('pedestrians128x64/' + i)\n",
    "for i in os.listdir('pedestrians_neg'):\n",
    "    if i[0] != '.':\n",
    "        neg_path.append('pedestrians_neg/' + i)\n",
    "pos_images = []\n",
    "for pos_image_path in pos_path:\n",
    "    pos_image = cv2.imread(pos_image_path)\n",
    "    hog_array = hog.compute(pos_image)\n",
    "    pos_images.append(hog_array)\n",
    "pos_images = np.resize(pos_images, (len(pos_images), 3780))\n",
    "pos_labels = np.ones(shape=pos_images.shape[0], dtype=np.int32)\n",
    "\n",
    "neg_images = []\n",
    "for neg_image_path in neg_path:\n",
    "    neg_image = cv2.imread(neg_image_path)\n",
    "    for i in range(2):\n",
    "        for j in range(4):\n",
    "            sub_image = neg_image[i * 128:(i + 1) * 128, j * 64:(j + 1) * 64]\n",
    "            hog_array = hog.compute(sub_image)\n",
    "            neg_images.append(hog_array)\n",
    "neg_images = np.resize(neg_images, (len(neg_images), 3780))\n",
    "neg_labels = -np.ones(shape=neg_images.shape[0], dtype=np.int32)\n",
    "\n",
    "X = np.concatenate((pos_images, neg_images))\n",
    "y = np.concatenate((pos_labels, neg_labels))\n",
    "X_train, X_test, y_train, y_test = train_test_split(X, y, train_size=0.8)"
   ]
  },
  {
   "cell_type": "code",
   "execution_count": 9,
   "metadata": {},
   "outputs": [
    {
     "data": {
      "text/html": [
       "<style>#sk-container-id-2 {color: black;background-color: white;}#sk-container-id-2 pre{padding: 0;}#sk-container-id-2 div.sk-toggleable {background-color: white;}#sk-container-id-2 label.sk-toggleable__label {cursor: pointer;display: block;width: 100%;margin-bottom: 0;padding: 0.3em;box-sizing: border-box;text-align: center;}#sk-container-id-2 label.sk-toggleable__label-arrow:before {content: \"▸\";float: left;margin-right: 0.25em;color: #696969;}#sk-container-id-2 label.sk-toggleable__label-arrow:hover:before {color: black;}#sk-container-id-2 div.sk-estimator:hover label.sk-toggleable__label-arrow:before {color: black;}#sk-container-id-2 div.sk-toggleable__content {max-height: 0;max-width: 0;overflow: hidden;text-align: left;background-color: #f0f8ff;}#sk-container-id-2 div.sk-toggleable__content pre {margin: 0.2em;color: black;border-radius: 0.25em;background-color: #f0f8ff;}#sk-container-id-2 input.sk-toggleable__control:checked~div.sk-toggleable__content {max-height: 200px;max-width: 100%;overflow: auto;}#sk-container-id-2 input.sk-toggleable__control:checked~label.sk-toggleable__label-arrow:before {content: \"▾\";}#sk-container-id-2 div.sk-estimator input.sk-toggleable__control:checked~label.sk-toggleable__label {background-color: #d4ebff;}#sk-container-id-2 div.sk-label input.sk-toggleable__control:checked~label.sk-toggleable__label {background-color: #d4ebff;}#sk-container-id-2 input.sk-hidden--visually {border: 0;clip: rect(1px 1px 1px 1px);clip: rect(1px, 1px, 1px, 1px);height: 1px;margin: -1px;overflow: hidden;padding: 0;position: absolute;width: 1px;}#sk-container-id-2 div.sk-estimator {font-family: monospace;background-color: #f0f8ff;border: 1px dotted black;border-radius: 0.25em;box-sizing: border-box;margin-bottom: 0.5em;}#sk-container-id-2 div.sk-estimator:hover {background-color: #d4ebff;}#sk-container-id-2 div.sk-parallel-item::after {content: \"\";width: 100%;border-bottom: 1px solid gray;flex-grow: 1;}#sk-container-id-2 div.sk-label:hover label.sk-toggleable__label {background-color: #d4ebff;}#sk-container-id-2 div.sk-serial::before {content: \"\";position: absolute;border-left: 1px solid gray;box-sizing: border-box;top: 0;bottom: 0;left: 50%;z-index: 0;}#sk-container-id-2 div.sk-serial {display: flex;flex-direction: column;align-items: center;background-color: white;padding-right: 0.2em;padding-left: 0.2em;position: relative;}#sk-container-id-2 div.sk-item {position: relative;z-index: 1;}#sk-container-id-2 div.sk-parallel {display: flex;align-items: stretch;justify-content: center;background-color: white;position: relative;}#sk-container-id-2 div.sk-item::before, #sk-container-id-2 div.sk-parallel-item::before {content: \"\";position: absolute;border-left: 1px solid gray;box-sizing: border-box;top: 0;bottom: 0;left: 50%;z-index: -1;}#sk-container-id-2 div.sk-parallel-item {display: flex;flex-direction: column;z-index: 1;position: relative;background-color: white;}#sk-container-id-2 div.sk-parallel-item:first-child::after {align-self: flex-end;width: 50%;}#sk-container-id-2 div.sk-parallel-item:last-child::after {align-self: flex-start;width: 50%;}#sk-container-id-2 div.sk-parallel-item:only-child::after {width: 0;}#sk-container-id-2 div.sk-dashed-wrapped {border: 1px dashed gray;margin: 0 0.4em 0.5em 0.4em;box-sizing: border-box;padding-bottom: 0.4em;background-color: white;}#sk-container-id-2 div.sk-label label {font-family: monospace;font-weight: bold;display: inline-block;line-height: 1.2em;}#sk-container-id-2 div.sk-label-container {text-align: center;}#sk-container-id-2 div.sk-container {/* jupyter's `normalize.less` sets `[hidden] { display: none; }` but bootstrap.min.css set `[hidden] { display: none !important; }` so we also need the `!important` here to be able to override the default hidden behavior on the sphinx rendered scikit-learn.org. See: https://github.com/scikit-learn/scikit-learn/issues/21755 */display: inline-block !important;position: relative;}#sk-container-id-2 div.sk-text-repr-fallback {display: none;}</style><div id=\"sk-container-id-2\" class=\"sk-top-container\"><div class=\"sk-text-repr-fallback\"><pre>SVC(C=1, degree=2)</pre><b>In a Jupyter environment, please rerun this cell to show the HTML representation or trust the notebook. <br />On GitHub, the HTML representation is unable to render, please try loading this page with nbviewer.org.</b></div><div class=\"sk-container\" hidden><div class=\"sk-item\"><div class=\"sk-estimator sk-toggleable\"><input class=\"sk-toggleable__control sk-hidden--visually\" id=\"sk-estimator-id-2\" type=\"checkbox\" checked><label for=\"sk-estimator-id-2\" class=\"sk-toggleable__label sk-toggleable__label-arrow\">SVC</label><div class=\"sk-toggleable__content\"><pre>SVC(C=1, degree=2)</pre></div></div></div></div></div>"
      ],
      "text/plain": [
       "SVC(C=1, degree=2)"
      ]
     },
     "execution_count": 9,
     "metadata": {},
     "output_type": "execute_result"
    }
   ],
   "source": [
    "svc = svm.SVC(kernel='rbf', degree=2, C=1, max_iter=-1)\n",
    "svc.fit(X_train, y_train)"
   ]
  },
  {
   "cell_type": "code",
   "execution_count": 10,
   "metadata": {},
   "outputs": [
    {
     "name": "stdout",
     "output_type": "stream",
     "text": [
      "test/01.jpg\n",
      "Done\n",
      "test/02.jpg\n",
      "Done\n",
      "test/03.jpg\n",
      "Done\n",
      "test/04.jpg\n",
      "Done\n",
      "test/05.jpg\n",
      "Done\n",
      "test/06.jpg\n",
      "Done\n",
      "test/07.jpg\n",
      "Done\n",
      "test/08.jpg\n",
      "Done\n",
      "test/09.jpg\n",
      "Done\n",
      "test/10.jpg\n",
      "Done\n",
      "test/11.jpg\n",
      "Done\n",
      "test/12.jpg\n",
      "Done\n",
      "test/13.jpg\n",
      "Done\n",
      "test/14.jpg\n",
      "Done\n",
      "test/15.jpg\n",
      "Done\n",
      "test/16.jpg\n",
      "Done\n"
     ]
    }
   ],
   "source": [
    "def predict(img, op):\n",
    "    print(img)\n",
    "\n",
    "    test_image = cv2.imread(img)\n",
    "    test_image = cv2.resize(test_image, (1024, 768))\n",
    "\n",
    "    h, w, _ = test_image.shape\n",
    "    stride = 16\n",
    "    find_window = []\n",
    "    find_coordinate = []\n",
    "    for windowsize in range(1, 5):\n",
    "        for ystart in range(0, h, stride*windowsize):\n",
    "            for xstart in range(0, w, stride*windowsize):\n",
    "                if ystart+windowsize*128>h or xstart+windowsize*64>w:\n",
    "                    continue\n",
    "                window = test_image[ystart:ystart+windowsize*128, xstart:xstart+windowsize*64]\n",
    "                s_window = cv2.resize(window, (64, 128))\n",
    "                hog_array = hog.compute(s_window).reshape(1, -1)\n",
    "                pred = svc.predict(hog_array)\n",
    "                if pred[0] == 1:\n",
    "                    find_window.append(window)\n",
    "                    find_coordinate.append([(xstart, ystart), (xstart+windowsize*64, ystart+windowsize*128)])\n",
    "    print(\"Done\")\n",
    "\n",
    "    for c in find_coordinate:\n",
    "        cv2.rectangle(test_image, c[0], c[1], (0,255,0))\n",
    "    cv2.imwrite(op, test_image)\n",
    "\n",
    "predict_path = []\n",
    "output_path = []\n",
    "for i in os.listdir('test'):\n",
    "    if i[0] != '.':\n",
    "        predict_path.append('test/' + i)\n",
    "        output_path.append('output/' + i)\n",
    "\n",
    "for i in range(len(predict_path)):\n",
    "    predict(predict_path[i], output_path[i])\n"
   ]
  }
 ],
 "metadata": {
  "kernelspec": {
   "display_name": "Python 3",
   "language": "python",
   "name": "python3"
  },
  "language_info": {
   "codemirror_mode": {
    "name": "ipython",
    "version": 3
   },
   "file_extension": ".py",
   "mimetype": "text/x-python",
   "name": "python",
   "nbconvert_exporter": "python",
   "pygments_lexer": "ipython3",
   "version": "3.9.12"
  },
  "orig_nbformat": 4
 },
 "nbformat": 4,
 "nbformat_minor": 2
}
